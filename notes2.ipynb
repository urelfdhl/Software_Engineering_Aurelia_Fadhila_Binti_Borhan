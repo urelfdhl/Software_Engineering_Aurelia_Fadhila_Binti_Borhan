{
  "nbformat": 4,
  "nbformat_minor": 0,
  "metadata": {
    "colab": {
      "name": "notes2.ipynb",
      "provenance": [],
      "collapsed_sections": []
    },
    "kernelspec": {
      "name": "python3",
      "display_name": "Python 3"
    },
    "language_info": {
      "name": "python"
    }
  },
  "cells": [
    {
      "cell_type": "code",
      "metadata": {
        "id": "P7efgfwkdzBo"
      },
      "source": [
        "#list []\n",
        "#dictionary{}\n",
        "#tuple() cuma bisa dilihat ga bisa di tambahin\n",
        "#set{}\n",
        "#looping\n",
        "#function"
      ],
      "execution_count": null,
      "outputs": []
    },
    {
      "cell_type": "code",
      "metadata": {
        "id": "drV9QWdleMhd",
        "colab": {
          "base_uri": "https://localhost:8080/"
        },
        "outputId": "649e2372-1652-49ad-f127-45e46ceb49f1"
      },
      "source": [
        "#list\n",
        "contoh_list = [\"abc\",12, 12.0, [\"aaa\",\"bbb\"], {},(),True]\n",
        "print(contoh_list[0])\n",
        "print(contoh_list[1])\n",
        "print(contoh_list[-1]) #isi list terakhir"
      ],
      "execution_count": null,
      "outputs": [
        {
          "output_type": "stream",
          "name": "stdout",
          "text": [
            "abc\n",
            "12\n",
            "True\n"
          ]
        }
      ]
    },
    {
      "cell_type": "code",
      "metadata": {
        "colab": {
          "base_uri": "https://localhost:8080/"
        },
        "id": "nplhd6X89SpI",
        "outputId": "f93d65c0-cfc8-4595-f55f-3c7452047a9b"
      },
      "source": [
        "#Dictionary Key di kiri Value di kanan\n",
        "contoh_dict = {2:\"abc\", \"satu\":1, False:12.0, 3.0:[\"qqq\",\"www\"], \"Dict\":{}, 333:(), \"Boolean\":True}\n",
        "print(contoh_dict[2])\n",
        "print(contoh_dict[\"satu\"])"
      ],
      "execution_count": 1,
      "outputs": [
        {
          "output_type": "stream",
          "name": "stdout",
          "text": [
            "abc\n",
            "1\n"
          ]
        }
      ]
    },
    {
      "cell_type": "code",
      "metadata": {
        "colab": {
          "base_uri": "https://localhost:8080/"
        },
        "id": "WOWwwtMW_Fl8",
        "outputId": "22da0ca0-518f-495b-cceb-77183f59371e"
      },
      "source": [
        "#contoh method di dict : .keys()\n",
        "contoh_dict.keys()"
      ],
      "execution_count": null,
      "outputs": [
        {
          "output_type": "execute_result",
          "data": {
            "text/plain": [
              "dict_keys([2, 'satu', False, 3.0, 'Dict', 333, 'Boolean'])"
            ]
          },
          "metadata": {},
          "execution_count": 3
        }
      ]
    },
    {
      "cell_type": "code",
      "metadata": {
        "id": "v_d-skzN_qZ7"
      },
      "source": [
        "#Contoh method List\n",
        "List1 = [3,2,1,4,5,6]"
      ],
      "execution_count": null,
      "outputs": []
    },
    {
      "cell_type": "code",
      "metadata": {
        "colab": {
          "base_uri": "https://localhost:8080/"
        },
        "id": "bKnStY5L_ySC",
        "outputId": "0bcf406d-db08-4a12-a10c-b2a5cbf2e9fd"
      },
      "source": [
        "List1.append(\"abc\")\n",
        "print(List1)"
      ],
      "execution_count": null,
      "outputs": [
        {
          "output_type": "stream",
          "name": "stdout",
          "text": [
            "[3, 2, 1, 4, 5, 6, 'abc']\n"
          ]
        }
      ]
    },
    {
      "cell_type": "code",
      "metadata": {
        "colab": {
          "base_uri": "https://localhost:8080/"
        },
        "id": "brrrNMPZ_0YC",
        "outputId": "3fc2d517-6291-44bb-8c0b-4650b92ebb66"
      },
      "source": [
        "List1.insert(4, \"David\")\n",
        "print(List1)"
      ],
      "execution_count": null,
      "outputs": [
        {
          "output_type": "stream",
          "name": "stdout",
          "text": [
            "[3, 2, 1, 4, 'David', 5, 6, 'abc']\n"
          ]
        }
      ]
    },
    {
      "cell_type": "code",
      "metadata": {
        "colab": {
          "base_uri": "https://localhost:8080/"
        },
        "id": "EOrrgmLw_2qq",
        "outputId": "b9ac8617-318c-457b-e334-bfd532c9a825"
      },
      "source": [
        "List_Angka = [3,4,5,2,1]\n",
        "List_Angka.sort()\n",
        "print(List_Angka)"
      ],
      "execution_count": null,
      "outputs": [
        {
          "output_type": "stream",
          "name": "stdout",
          "text": [
            "[1, 2, 3, 4, 5]\n"
          ]
        }
      ]
    },
    {
      "cell_type": "code",
      "metadata": {
        "colab": {
          "base_uri": "https://localhost:8080/"
        },
        "id": "aikIPpnP_4BS",
        "outputId": "09f82c5b-1eec-4151-85c8-538609cb3fae"
      },
      "source": [
        "List_Angka.sort(reverse = True)\n",
        "print(List_Angka)"
      ],
      "execution_count": null,
      "outputs": [
        {
          "output_type": "stream",
          "name": "stdout",
          "text": [
            "[5, 4, 3, 2, 1]\n"
          ]
        }
      ]
    },
    {
      "cell_type": "code",
      "metadata": {
        "colab": {
          "base_uri": "https://localhost:8080/"
        },
        "id": "8vRwk1an_34y",
        "outputId": "3480428a-5437-401c-e1c2-21107200cc48"
      },
      "source": [
        "List_Angka.pop()\n",
        "print(List_Angka)"
      ],
      "execution_count": null,
      "outputs": [
        {
          "output_type": "stream",
          "name": "stdout",
          "text": [
            "[5, 4, 3, 2]\n"
          ]
        }
      ]
    },
    {
      "cell_type": "code",
      "metadata": {
        "colab": {
          "base_uri": "https://localhost:8080/"
        },
        "id": "-V3jxNvt_3uK",
        "outputId": "796646ed-0375-4a57-832f-b063b8b05429"
      },
      "source": [
        "List_Angka.remove(3)\n",
        "print(List_Angka)"
      ],
      "execution_count": null,
      "outputs": [
        {
          "output_type": "stream",
          "name": "stdout",
          "text": [
            "[5, 4, 2]\n"
          ]
        }
      ]
    },
    {
      "cell_type": "code",
      "metadata": {
        "id": "saI1fB2JQmKF"
      },
      "source": [
        "list_angka = [1,2,3,4,5,0]"
      ],
      "execution_count": null,
      "outputs": []
    },
    {
      "cell_type": "code",
      "metadata": {
        "colab": {
          "base_uri": "https://localhost:8080/"
        },
        "id": "Ha-GvBCDQsKO",
        "outputId": "63a30ada-4517-4989-d59f-f5ac760bb48a"
      },
      "source": [
        "for i in list_angka:\n",
        "  if i == 0:\n",
        "    print(\"ada angka 0\")"
      ],
      "execution_count": null,
      "outputs": [
        {
          "output_type": "stream",
          "name": "stdout",
          "text": [
            "ada angka 0\n"
          ]
        }
      ]
    },
    {
      "cell_type": "code",
      "metadata": {
        "colab": {
          "base_uri": "https://localhost:8080/"
        },
        "id": "7hoMLWmQRqi-",
        "outputId": "91e6df5e-6314-4a7e-ff79-161d82185745"
      },
      "source": [
        "for i in list_angka:\n",
        "  if i == 0:\n",
        "    list_angka.remove(i)\n",
        "list_angka"
      ],
      "execution_count": null,
      "outputs": [
        {
          "output_type": "execute_result",
          "data": {
            "text/plain": [
              "[1, 2, 3, 4, 5]"
            ]
          },
          "metadata": {},
          "execution_count": 67
        }
      ]
    },
    {
      "cell_type": "code",
      "metadata": {
        "id": "PiEY9L07iODO",
        "colab": {
          "base_uri": "https://localhost:8080/"
        },
        "outputId": "82586181-2c8b-4534-80fa-01af93f1259c"
      },
      "source": [
        "#set ga bisa di lihat harus di ubah ke list dulu\n",
        "set_angka = set(List_Angka)\n",
        "print(set_angka)"
      ],
      "execution_count": null,
      "outputs": [
        {
          "output_type": "stream",
          "name": "stdout",
          "text": [
            "{2, 4, 5}\n"
          ]
        }
      ]
    },
    {
      "cell_type": "code",
      "metadata": {
        "colab": {
          "base_uri": "https://localhost:8080/"
        },
        "id": "OossBYyzFojh",
        "outputId": "7247aec4-a1ad-44d2-f37a-f62628042557"
      },
      "source": [
        "list_angka = list(set_angka)\n",
        "print(list_angka)"
      ],
      "execution_count": null,
      "outputs": [
        {
          "output_type": "stream",
          "name": "stdout",
          "text": [
            "[2, 4, 5]\n"
          ]
        }
      ]
    },
    {
      "cell_type": "code",
      "metadata": {
        "colab": {
          "base_uri": "https://localhost:8080/"
        },
        "id": "kA70Uu9KF2NJ",
        "outputId": "c0a30e3a-8de7-4507-da79-c42708885cb3"
      },
      "source": [
        "#tuple itu constant ga bisa di ubah\n",
        "tuple_angka = [1,2,3,4,5]\n",
        "print(tuple_angka[0])"
      ],
      "execution_count": null,
      "outputs": [
        {
          "output_type": "stream",
          "name": "stdout",
          "text": [
            "1\n"
          ]
        }
      ]
    },
    {
      "cell_type": "code",
      "metadata": {
        "id": "zmQ9hYOxGHEA"
      },
      "source": [
        "contoh_dict = {2:\"abc\", \"satu\":1, False:12.0, 3.0:[\"qqq\",\"www\"], \"Dict\":{}, 333:(), \"Boolean\":True}\n"
      ],
      "execution_count": null,
      "outputs": []
    },
    {
      "cell_type": "code",
      "metadata": {
        "id": "zavG3GjMGG9w"
      },
      "source": [
        "contoh_dict[\"asd\"] = [100]"
      ],
      "execution_count": null,
      "outputs": []
    },
    {
      "cell_type": "code",
      "metadata": {
        "colab": {
          "base_uri": "https://localhost:8080/"
        },
        "id": "5wFfG22VKhWJ",
        "outputId": "e25b7460-cc64-46d9-f447-93b369285750"
      },
      "source": [
        "print(contoh_dict)"
      ],
      "execution_count": null,
      "outputs": [
        {
          "output_type": "stream",
          "name": "stdout",
          "text": [
            "{2: 'abc', 'satu': 1, False: 12.0, 3.0: ['qqq', 'www'], 'Dict': {}, 333: (), 'Boolean': True, 'asd': [100]}\n"
          ]
        }
      ]
    },
    {
      "cell_type": "code",
      "metadata": {
        "colab": {
          "base_uri": "https://localhost:8080/"
        },
        "id": "YI0IdjC7LOLR",
        "outputId": "1fd1881c-f1a7-4695-e492-44e7603ff896"
      },
      "source": [
        "contoh_dict[\"asd\"].append(200)\n",
        "print(contoh_dict)"
      ],
      "execution_count": null,
      "outputs": [
        {
          "output_type": "stream",
          "name": "stdout",
          "text": [
            "{2: 'abc', 'satu': 1, False: 12.0, 3.0: ['qqq', 'www'], 'Dict': {}, 333: (), 'Boolean': True, 'asd': [100, 200]}\n"
          ]
        }
      ]
    },
    {
      "cell_type": "code",
      "metadata": {
        "id": "RzUx8xmZLdjZ"
      },
      "source": [
        "#contoh_dict.pop(\"asd\") /  atau bisa ubah value jadi None\n",
        "del contoh_dict[\"asd\"]"
      ],
      "execution_count": null,
      "outputs": []
    },
    {
      "cell_type": "code",
      "metadata": {
        "colab": {
          "base_uri": "https://localhost:8080/"
        },
        "id": "2J3-Q5yEL05H",
        "outputId": "b6f85b77-11af-401b-d1cc-20cb717cfce7"
      },
      "source": [
        "print(contoh_dict)"
      ],
      "execution_count": null,
      "outputs": [
        {
          "output_type": "stream",
          "name": "stdout",
          "text": [
            "{2: 'abc', 'satu': 1, False: 12.0, 3.0: ['qqq', 'www'], 'Dict': {}, 333: (), 'Boolean': True}\n"
          ]
        }
      ]
    },
    {
      "cell_type": "code",
      "metadata": {
        "colab": {
          "base_uri": "https://localhost:8080/"
        },
        "id": "k6hddVzmL02y",
        "outputId": "cde84912-013a-4d4d-8801-7df05097dd66"
      },
      "source": [
        "#Looping\n",
        "\n",
        "for i in range(10):\n",
        "  print(\"Halo\")"
      ],
      "execution_count": null,
      "outputs": [
        {
          "output_type": "stream",
          "name": "stdout",
          "text": [
            "Hai\n",
            "Hai\n",
            "Hai\n",
            "Hai\n",
            "Hai\n",
            "Hai\n",
            "Hai\n",
            "Hai\n",
            "Hai\n",
            "Hai\n"
          ]
        }
      ]
    },
    {
      "cell_type": "code",
      "metadata": {
        "colab": {
          "base_uri": "https://localhost:8080/"
        },
        "id": "Aqat61xaL00H",
        "outputId": "36742e6a-f987-44be-95ae-9800e4b34ac9"
      },
      "source": [
        "for i in range(10):\n",
        "  print(i)"
      ],
      "execution_count": null,
      "outputs": [
        {
          "output_type": "stream",
          "name": "stdout",
          "text": [
            "0\n",
            "1\n",
            "2\n",
            "3\n",
            "4\n",
            "5\n",
            "6\n",
            "7\n",
            "8\n",
            "9\n"
          ]
        }
      ]
    },
    {
      "cell_type": "code",
      "metadata": {
        "colab": {
          "base_uri": "https://localhost:8080/"
        },
        "id": "PP8RDGYmL0s_",
        "outputId": "2778c44e-57b6-45c7-c8a7-f3c31eefe185"
      },
      "source": [
        "for i in range (0,10,2): #angka dari 0-10 loncat 2 angka\n",
        "  print(i)"
      ],
      "execution_count": null,
      "outputs": [
        {
          "output_type": "stream",
          "name": "stdout",
          "text": [
            "0\n",
            "2\n",
            "4\n",
            "6\n",
            "8\n"
          ]
        }
      ]
    },
    {
      "cell_type": "code",
      "metadata": {
        "colab": {
          "base_uri": "https://localhost:8080/"
        },
        "id": "rr9UQHL1NMqH",
        "outputId": "ccb9c5a1-e6ba-42c8-c705-3ee714ab0852"
      },
      "source": [
        "for i in range (20,0,-1): \n",
        "  print(i)"
      ],
      "execution_count": null,
      "outputs": [
        {
          "output_type": "stream",
          "name": "stdout",
          "text": [
            "20\n",
            "19\n",
            "18\n",
            "17\n",
            "16\n",
            "15\n",
            "14\n",
            "13\n",
            "12\n",
            "11\n",
            "10\n",
            "9\n",
            "8\n",
            "7\n",
            "6\n",
            "5\n",
            "4\n",
            "3\n",
            "2\n",
            "1\n"
          ]
        }
      ]
    },
    {
      "cell_type": "code",
      "metadata": {
        "id": "Cdz_NbOKNY12"
      },
      "source": [
        "#while looping -> Forever Looping\n",
        "while True:\n",
        "  print(\"Forever Looping\")"
      ],
      "execution_count": null,
      "outputs": []
    },
    {
      "cell_type": "code",
      "metadata": {
        "colab": {
          "base_uri": "https://localhost:8080/"
        },
        "id": "JVA5QOXONmzG",
        "outputId": "2bdae0bd-a933-4ece-ec57-43ec148cad8d"
      },
      "source": [
        "#while looping\n",
        "a = 0\n",
        "while a < 20:\n",
        "  print(\"a lebih kecil dari 20 {}\".format(a))\n",
        "  a += 1"
      ],
      "execution_count": 3,
      "outputs": [
        {
          "output_type": "stream",
          "name": "stdout",
          "text": [
            "a lebih kecil dari 20 0\n",
            "a lebih kecil dari 20 1\n",
            "a lebih kecil dari 20 2\n",
            "a lebih kecil dari 20 3\n",
            "a lebih kecil dari 20 4\n",
            "a lebih kecil dari 20 5\n",
            "a lebih kecil dari 20 6\n",
            "a lebih kecil dari 20 7\n",
            "a lebih kecil dari 20 8\n",
            "a lebih kecil dari 20 9\n",
            "a lebih kecil dari 20 10\n",
            "a lebih kecil dari 20 11\n",
            "a lebih kecil dari 20 12\n",
            "a lebih kecil dari 20 13\n",
            "a lebih kecil dari 20 14\n",
            "a lebih kecil dari 20 15\n",
            "a lebih kecil dari 20 16\n",
            "a lebih kecil dari 20 17\n",
            "a lebih kecil dari 20 18\n",
            "a lebih kecil dari 20 19\n"
          ]
        }
      ]
    },
    {
      "cell_type": "code",
      "metadata": {
        "colab": {
          "base_uri": "https://localhost:8080/"
        },
        "id": "zptMdLi-OOLP",
        "outputId": "6fa627e2-970f-4eac-f98c-ada68fcb295a"
      },
      "source": [
        "#Umur user yang di input tidak boleh dibawah 17\n",
        "while True:\n",
        "  umur = int(input())\n",
        "  if umur >= 17:\n",
        "    break"
      ],
      "execution_count": null,
      "outputs": [
        {
          "name": "stdout",
          "output_type": "stream",
          "text": [
            "16\n",
            "14\n",
            "20\n"
          ]
        }
      ]
    },
    {
      "cell_type": "code",
      "metadata": {
        "colab": {
          "base_uri": "https://localhost:8080/"
        },
        "id": "WRUUwP-QOiBm",
        "outputId": "f265a1b9-749e-451b-ae2c-183147fe8c50"
      },
      "source": [
        "while True:\n",
        "  umur = int(input())\n",
        "  if umur == 17:\n",
        "    continue\n",
        "  elif umur > 17:\n",
        "    break\n",
        "  print(\"Dibawah umur\")"
      ],
      "execution_count": null,
      "outputs": [
        {
          "name": "stdout",
          "output_type": "stream",
          "text": [
            "16\n",
            "Dibawah umur\n",
            "22\n"
          ]
        }
      ]
    },
    {
      "cell_type": "code",
      "metadata": {
        "colab": {
          "base_uri": "https://localhost:8080/"
        },
        "id": "gSQrd8TEO_a3",
        "outputId": "33b05e21-a585-45ad-93d2-d63237668e1a"
      },
      "source": [
        "#for else\n",
        "for i in range (0,20,1):\n",
        "  print(i)\n",
        "  if i == 2:\n",
        "    break\n",
        "else:\n",
        "  print(\"muncul jika break tidak terjadi\")"
      ],
      "execution_count": null,
      "outputs": [
        {
          "output_type": "stream",
          "name": "stdout",
          "text": [
            "0\n",
            "1\n",
            "2\n"
          ]
        }
      ]
    },
    {
      "cell_type": "code",
      "metadata": {
        "colab": {
          "base_uri": "https://localhost:8080/"
        },
        "id": "6AxoCuvjPSN3",
        "outputId": "3cd04d83-0652-4602-c63a-9afe74c304ba"
      },
      "source": [
        "#for else\n",
        "for i in range (0,10,1):\n",
        "  print(i)\n",
        "else:\n",
        "  print(\"a\")"
      ],
      "execution_count": null,
      "outputs": [
        {
          "output_type": "stream",
          "name": "stdout",
          "text": [
            "0\n",
            "1\n",
            "2\n",
            "3\n",
            "4\n",
            "5\n",
            "6\n",
            "7\n",
            "8\n",
            "9\n",
            "a\n"
          ]
        }
      ]
    },
    {
      "cell_type": "code",
      "metadata": {
        "id": "BVx0J2zWPf_G"
      },
      "source": [
        "#function\n",
        "def nila(a,b):\n",
        "  #masukkan kode disini\n",
        "  if a > b:\n",
        "    return a\n",
        "  else :\n",
        "    return b"
      ],
      "execution_count": null,
      "outputs": []
    },
    {
      "cell_type": "code",
      "metadata": {
        "colab": {
          "base_uri": "https://localhost:8080/"
        },
        "id": "_ZGdqkypPrC-",
        "outputId": "5d5480d1-52e2-4c3e-8373-345f00efac98"
      },
      "source": [
        "print(nila(3,10))"
      ],
      "execution_count": null,
      "outputs": [
        {
          "output_type": "stream",
          "name": "stdout",
          "text": [
            "10\n"
          ]
        }
      ]
    },
    {
      "cell_type": "code",
      "metadata": {
        "colab": {
          "base_uri": "https://localhost:8080/"
        },
        "id": "R7WyamojP_kd",
        "outputId": "38dcb932-a14b-48bf-c48a-3e7b86fd425c"
      },
      "source": [
        "for i in contoh_dict:\n",
        "  print(i)"
      ],
      "execution_count": null,
      "outputs": [
        {
          "output_type": "stream",
          "name": "stdout",
          "text": [
            "2\n",
            "satu\n",
            "False\n",
            "3.0\n",
            "Dict\n",
            "333\n",
            "Boolean\n"
          ]
        }
      ]
    },
    {
      "cell_type": "code",
      "metadata": {
        "colab": {
          "base_uri": "https://localhost:8080/"
        },
        "id": "0meUf-uRQRSV",
        "outputId": "039843f7-b7b5-447d-c542-7dd2af6269a9"
      },
      "source": [
        "for char in \"Alvin\":\n",
        "  print(char)"
      ],
      "execution_count": 4,
      "outputs": [
        {
          "output_type": "stream",
          "name": "stdout",
          "text": [
            "A\n",
            "l\n",
            "v\n",
            "i\n",
            "n\n"
          ]
        }
      ]
    },
    {
      "cell_type": "code",
      "metadata": {
        "colab": {
          "base_uri": "https://localhost:8080/"
        },
        "id": "SiJoZPuWQaEN",
        "outputId": "d57e967c-d060-4371-87e9-0b52e34cf471"
      },
      "source": [
        "for idx, nilai in enumerate(list_angka):\n",
        "  print(\"indeks : {}\".format(idx))\n",
        "  print(\"nilai : {}\".format(nilai))"
      ],
      "execution_count": null,
      "outputs": [
        {
          "output_type": "stream",
          "name": "stdout",
          "text": [
            "indeks : 0\n",
            "nilai : 1\n",
            "indeks : 1\n",
            "nilai : 2\n",
            "indeks : 2\n",
            "nilai : 3\n",
            "indeks : 3\n",
            "nilai : 4\n",
            "indeks : 4\n",
            "nilai : 5\n"
          ]
        }
      ]
    },
    {
      "cell_type": "code",
      "metadata": {
        "id": "LwSpFISMS8OV"
      },
      "source": [
        "list_angka.append(0)"
      ],
      "execution_count": null,
      "outputs": []
    },
    {
      "cell_type": "code",
      "metadata": {
        "colab": {
          "base_uri": "https://localhost:8080/"
        },
        "id": "Uh8bGnPPSjhV",
        "outputId": "a6863302-56be-477a-e7b0-83d5dd8246c5"
      },
      "source": [
        "for idx, nilai in enumerate(list_angka):\n",
        "  if nilai == 0:\n",
        "    list_angka[idx] = \"nol\"\n",
        "list_angka"
      ],
      "execution_count": null,
      "outputs": [
        {
          "output_type": "execute_result",
          "data": {
            "text/plain": [
              "[1, 2, 3, 4, 5, 'nol']"
            ]
          },
          "metadata": {},
          "execution_count": 72
        }
      ]
    }
  ]
}