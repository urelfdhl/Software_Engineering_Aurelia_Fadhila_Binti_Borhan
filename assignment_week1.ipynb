{
  "nbformat": 4,
  "nbformat_minor": 0,
  "metadata": {
    "colab": {
      "name": "assignment_week1",
      "provenance": []
    },
    "kernelspec": {
      "name": "python3",
      "display_name": "Python 3"
    },
    "language_info": {
      "name": "python"
    }
  },
  "cells": [
    {
      "cell_type": "code",
      "metadata": {
        "colab": {
          "base_uri": "https://localhost:8080/"
        },
        "id": "8vAOzjoxnB5I",
        "outputId": "225bdf9a-9f00-4799-ea8a-76a8b77ae01a"
      },
      "source": [
        "a = 10\n",
        "if a >= 10 and a <= 20:\n",
        "  print(\"nilai a ada dianatara 9 dan 21\")\n",
        "else:\n",
        "  print(\"jawaban tidak ada\")"
      ],
      "execution_count": 2,
      "outputs": [
        {
          "output_type": "stream",
          "name": "stdout",
          "text": [
            "nilai a ada dianatara 9 dan 21\n"
          ]
        }
      ]
    }
  ]
}