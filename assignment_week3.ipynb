{
  "nbformat": 4,
  "nbformat_minor": 0,
  "metadata": {
    "colab": {
      "name": "Exercise3.ipynb",
      "provenance": [],
      "collapsed_sections": []
    },
    "kernelspec": {
      "name": "python3",
      "display_name": "Python 3"
    },
    "language_info": {
      "name": "python"
    }
  },
  "cells": [
    {
      "cell_type": "code",
      "metadata": {
        "colab": {
          "base_uri": "https://localhost:8080/"
        },
        "id": "Uyosd5xgUX29",
        "outputId": "abdb68d0-f975-479d-be5b-e80412310b41"
      },
      "source": [
        "# Function ganjil genap parameter 1\n",
        "# Ribka Simanjuntak and Aurelia Fadhila Binti Borhan\n",
        "def nilai(num):\n",
        "  if num % 2 == 0:\n",
        "    print(num, \"adalah bilangan genap\")\n",
        "  else:\n",
        "    print(num, \"adalah bilangan ganjil\")\n",
        "\n",
        "nilai(1)"
      ],
      "execution_count": 3,
      "outputs": [
        {
          "output_type": "stream",
          "name": "stdout",
          "text": [
            "1 adalah bilangan ganjil\n"
          ]
        }
      ]
    }
  ]
}
