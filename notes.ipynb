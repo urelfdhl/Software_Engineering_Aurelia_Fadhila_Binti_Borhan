{
  "nbformat": 4,
  "nbformat_minor": 0,
  "metadata": {
    "colab": {
      "name": "notes.ipynb",
      "provenance": [],
      "collapsed_sections": []
    },
    "kernelspec": {
      "name": "python3",
      "display_name": "Python 3"
    },
    "language_info": {
      "name": "python"
    }
  },
  "cells": [
    {
      "cell_type": "code",
      "metadata": {
        "id": "9Oipptr8h7DS"
      },
      "source": [
        "# Contoh comment variable\n",
        "a = 10 #Integer\n",
        "b = 3.14 #Float\n",
        "c = \"abc\" #String kutip 2 maupun 1\n",
        "d = 'abc'\n",
        "e = True #Boolean\n",
        "f = False #Foolean\n",
        "k = [] #List\n",
        "l = [1,2,3] #List\n",
        "m =  {} #Dictinoary\n",
        "n = () #Tuple\n",
        "\n",
        "#Print fungsi utama/berguna untuk Debug"
      ],
      "execution_count": 1,
      "outputs": []
    },
    {
      "cell_type": "code",
      "metadata": {
        "colab": {
          "base_uri": "https://localhost:8080/"
        },
        "id": "wbkdLgj3iCdN",
        "outputId": "f1ac19ea-d59a-49c9-8201-bb177cd4f51d"
      },
      "source": [
        "#Print berguna untuk debugging\n",
        "print(c)"
      ],
      "execution_count": 2,
      "outputs": [
        {
          "output_type": "stream",
          "name": "stdout",
          "text": [
            "abc\n"
          ]
        }
      ]
    },
    {
      "cell_type": "code",
      "metadata": {
        "colab": {
          "base_uri": "https://localhost:8080/"
        },
        "id": "mCEkVl57iSnZ",
        "outputId": "946e32b8-c76d-45df-bac6-063cee27da7d"
      },
      "source": [
        "print(2+2*7)"
      ],
      "execution_count": 3,
      "outputs": [
        {
          "output_type": "stream",
          "name": "stdout",
          "text": [
            "16\n"
          ]
        }
      ]
    },
    {
      "cell_type": "code",
      "metadata": {
        "id": "djlID85vihfw"
      },
      "source": [
        "nama = \"Urel\"\n",
        "rumah = \"indo\"\n",
        "umur = 15"
      ],
      "execution_count": 8,
      "outputs": []
    },
    {
      "cell_type": "code",
      "metadata": {
        "colab": {
          "base_uri": "https://localhost:8080/"
        },
        "id": "qLQkdTfGixRW",
        "outputId": "d1ecc71c-ec30-484d-89ac-01a18868ca60"
      },
      "source": [
        "#Concatination\n",
        "print(\"Hai namaku adalah \" + nama +\", umurku \" + str(umur) +\", rumahku di \" + rumah)\n",
        "print(\"Hai namaku adalah {}, umurku {}, rumahku di {}\".format(nama,umur,rumah))"
      ],
      "execution_count": 9,
      "outputs": [
        {
          "output_type": "stream",
          "name": "stdout",
          "text": [
            "Hai namaku adalah Urel, umurku 15, rumahku di indo\n",
            "Hai namaku adalah Urel, umurku 15, rumahku di indo\n"
          ]
        }
      ]
    },
    {
      "cell_type": "code",
      "metadata": {
        "colab": {
          "base_uri": "https://localhost:8080/"
        },
        "id": "Cl7J9KuZi7q-",
        "outputId": "34bb93e3-908b-44e9-905b-cc2764165b8a"
      },
      "source": [
        "nama = input()"
      ],
      "execution_count": 10,
      "outputs": [
        {
          "name": "stdout",
          "output_type": "stream",
          "text": [
            "bla bla\n"
          ]
        }
      ]
    },
    {
      "cell_type": "code",
      "metadata": {
        "colab": {
          "base_uri": "https://localhost:8080/"
        },
        "id": "zAlWiGuvi-VQ",
        "outputId": "f22b328d-68ef-4e9a-e6fc-38b60522888a"
      },
      "source": [
        "print(\"Hai, namaku adalah \" + nama + \", umurku \" + str(umur))\n",
        "print(\"Hai, namaku adalah \", nama ,\", umurku \", umur)\n",
        "print(\"Hai, namaku adalah {}, umurku {}, saya tinggal di {}\".format(nama, umur, tempat)) #Recommended\n",
        "print(\"nama {}, umur {}\".format(nama,umur))"
      ],
      "execution_count": 11,
      "outputs": [
        {
          "output_type": "stream",
          "name": "stdout",
          "text": [
            "Hai, namaku adalah bla bla, umurku 15\n",
            "Hai, namaku adalah  bla bla , umurku  15\n",
            "Hai, namaku adalah bla bla, umurku 15, saya tinggal di indo\n",
            "nama bla bla, umur 15\n"
          ]
        }
      ]
    },
    {
      "cell_type": "code",
      "metadata": {
        "colab": {
          "base_uri": "https://localhost:8080/"
        },
        "id": "Ytrko0r0jFuk",
        "outputId": "3b998c01-a90b-4683-b020-ce24063247f2"
      },
      "source": [
        "import math\n",
        "a = 10\n",
        "b = 10\n",
        "#If else\n",
        "\n",
        "## Conditional Statement\n",
        "a == b\n",
        "a != b\n",
        "a < b\n",
        "a <= b\n",
        "a > b\n",
        "a >= b\n",
        "True and True\n",
        "False or True \n",
        "\n",
        "##Operator\n",
        "a + b\n",
        "a - b\n",
        "a * b\n",
        "a / b # 10 / 10 = 1.0 --> Float Division\n",
        "a // b # 10 // 10 = 1 --> Integer Division\n",
        "a ** b # 10^10 = 100\n",
        "a % b # Modulus\n",
        "a ** (1/2) # akar variable a, dimana a = 10\n",
        "math.sqrt(a) # akar variabel a\n",
        "math.sin(a)\n",
        "math.tan(a)\n",
        "math.cos(a)\n",
        "math.tanh(a)\n",
        "math.sinh(a)\n",
        "math.cosh(a)\n",
        "math.log(a)"
      ],
      "execution_count": 12,
      "outputs": [
        {
          "output_type": "execute_result",
          "data": {
            "text/plain": [
              "2.302585092994046"
            ]
          },
          "metadata": {},
          "execution_count": 12
        }
      ]
    },
    {
      "cell_type": "code",
      "metadata": {
        "colab": {
          "base_uri": "https://localhost:8080/"
        },
        "id": "muNTV4NLjbIw",
        "outputId": "767585af-2147-41b7-d56f-17aefebe2929"
      },
      "source": [
        "if a == 10:\n",
        "  print(\"a sama dengan 10\")\n",
        "elif a > 10:\n",
        "  print(\"a lebih dari 10\")\n",
        "else:\n",
        "  print(\"a kurang dari 10\")\n",
        "print(\"ini diluar if\")"
      ],
      "execution_count": 13,
      "outputs": [
        {
          "output_type": "stream",
          "name": "stdout",
          "text": [
            "a sama dengan 10\n",
            "ini diluar if\n"
          ]
        }
      ]
    }
  ]
}